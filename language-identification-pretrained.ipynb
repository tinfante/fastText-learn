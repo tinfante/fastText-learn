{
 "cells": [
  {
   "cell_type": "code",
   "execution_count": 1,
   "metadata": {},
   "outputs": [],
   "source": [
    "import os\n",
    "import urllib\n",
    "\n",
    "\n",
    "# There are two models: lid.176.bin at ~130mb and more accurate;\n",
    "# and the smaller less accurate lid.176.ftz.\n",
    "# https://fasttext.cc/docs/en/language-identification.html\n",
    "MODEL = 'lid.176.bin'\n",
    "\n",
    "# Check if model downloaded. \n",
    "if not os.path.isfile('models/'+MODEL):\n",
    "    urllib.request.urlretrieve(\n",
    "        'https://dl.fbaipublicfiles.com/fasttext/supervised-models/'+MODEL,\n",
    "        'models/'+MODEL)"
   ]
  },
  {
   "cell_type": "code",
   "execution_count": 2,
   "metadata": {},
   "outputs": [],
   "source": [
    "import fasttext\n",
    "from pycountry import languages\n",
    "\n",
    "\n",
    "def prediction_wrapper(func):\n",
    "    \"\"\"\n",
    "    Wrapper around fastText prediction function. Same output when 'sentences' is str or\n",
    "    list of strs, no other data types accepted. Human readable language prediction labels\n",
    "    and rounded confidence. Only returns first label and confidence, so if model.predict()\n",
    "    method is called with k > 1, other predictions are ignored.\n",
    "    \"\"\"        \n",
    "    def wrapper(*args):\n",
    "        if isinstance(args[0], list) and all(type(i) == str for i in args[0]):\n",
    "            prediction = func(*args)\n",
    "            return [{'sentence': s,\n",
    "                     'language': languages.get(alpha_2=prediction[0][i][0][-2:]).name,\n",
    "                     'confidence': round(prediction[1][i][0], 2)}\n",
    "                    for i, s in enumerate(args[0])]\n",
    "        elif isinstance(args[0], str):\n",
    "            prediction = func(*args)\n",
    "            return [{'sentence': args[0],\n",
    "                 'language': languages.get(alpha_2=prediction[0][0][-2:]).name,\n",
    "                 'confidence': round(prediction[1][0], 2)}]\n",
    "        raise ValueError(\"First argument 'sentences' must be str or list of strs.\")\n",
    "    return wrapper\n",
    "    \n",
    "\n",
    "@prediction_wrapper\n",
    "def identify_language(sentences, model_file='models/'+MODEL):\n",
    "    model = fasttext.load_model(model_file)\n",
    "    prediction = model.predict(sentences)\n",
    "    return prediction"
   ]
  },
  {
   "cell_type": "code",
   "execution_count": 3,
   "metadata": {},
   "outputs": [
    {
     "name": "stdout",
     "output_type": "stream",
     "text": [
      "[\n",
      "  {\n",
      "    \"confidence\": 0.97,\n",
      "    \"language\": \"Portuguese\",\n",
      "    \"sentence\": \"Tom está no jardim.\"\n",
      "  },\n",
      "  {\n",
      "    \"confidence\": 0.98,\n",
      "    \"language\": \"German\",\n",
      "    \"sentence\": \"Unsere berechtigte Forderung beantworteten sie abschlägig.\"\n",
      "  },\n",
      "  {\n",
      "    \"confidence\": 0.96,\n",
      "    \"language\": \"English\",\n",
      "    \"sentence\": \"Where is the bathroom?\"\n",
      "  },\n",
      "  {\n",
      "    \"confidence\": 1.0,\n",
      "    \"language\": \"French\",\n",
      "    \"sentence\": \"Je n'aimerais pas le rencontrer dans un endroit sombre.\"\n",
      "  },\n",
      "  {\n",
      "    \"confidence\": 1.0,\n",
      "    \"language\": \"Spanish\",\n",
      "    \"sentence\": \"John dice que quiere morir en el mismo lugar en que nació.\"\n",
      "  },\n",
      "  {\n",
      "    \"confidence\": 1.0,\n",
      "    \"language\": \"Russian\",\n",
      "    \"sentence\": \"Том согласился помочь Мэри.\"\n",
      "  },\n",
      "  {\n",
      "    \"confidence\": 0.99,\n",
      "    \"language\": \"Italian\",\n",
      "    \"sentence\": \"Io non mi fido dei politici.\"\n",
      "  }\n",
      "]\n"
     ]
    },
    {
     "name": "stderr",
     "output_type": "stream",
     "text": [
      "\n"
     ]
    }
   ],
   "source": [
    "from json import dumps\n",
    "\n",
    "print(dumps(\n",
    "    identify_language(\n",
    "        # sample sentences collected from:\n",
    "        # https://tatoeba.org/eng/sentences/show/random\n",
    "        [\n",
    "            'Tom está no jardim.',                                         # pr\n",
    "            'Unsere berechtigte Forderung beantworteten sie abschlägig.',  # de\n",
    "            'Where is the bathroom?',                                      # en\n",
    "            \"Je n'aimerais pas le rencontrer dans un endroit sombre.\",     # fr\n",
    "            'John dice que quiere morir en el mismo lugar en que nació.',  # es\n",
    "            'Том согласился помочь Мэри.',                                 # ru\n",
    "            'Io non mi fido dei politici.',                                # it\n",
    "        ]),\n",
    "    indent=2, sort_keys=True, ensure_ascii=False))"
   ]
  }
 ],
 "metadata": {
  "kernelspec": {
   "display_name": "Python 3",
   "language": "python",
   "name": "python3"
  },
  "language_info": {
   "codemirror_mode": {
    "name": "ipython",
    "version": 3
   },
   "file_extension": ".py",
   "mimetype": "text/x-python",
   "name": "python",
   "nbconvert_exporter": "python",
   "pygments_lexer": "ipython3",
   "version": "3.5.2"
  }
 },
 "nbformat": 4,
 "nbformat_minor": 2
}
