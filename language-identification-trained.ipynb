{
 "cells": [
  {
   "cell_type": "code",
   "execution_count": 1,
   "metadata": {},
   "outputs": [],
   "source": [
    "import os\n",
    "import urllib\n",
    "from zipfile import ZipFile\n",
    "\n",
    "\n",
    "def download_wili():\n",
    "    \"\"\"\n",
    "    Downloads WiLI-2018 if not downloaded.\n",
    "    \"\"\"\n",
    "    if not os.path.isdir('data/WiLI-2018'):\n",
    "        urllib.request.urlretrieve(\n",
    "            'https://zenodo.org/record/841984/files/wili-2018.zip',\n",
    "            'data/wili-2018.zip')\n",
    "        with ZipFile('data/wili-2018.zip', 'r') as zf:\n",
    "            zf.extractall('data/WiLI-2018')\n",
    "        os.remove('data/wili-2018.zip')\n",
    "\n",
    "\n",
    "def load_wili(include=None):\n",
    "    \"\"\"\n",
    "    Loads WiLI-2018 data, using provided train/test split. If\n",
    "    'include' parameter is None, all labels (languages) will be\n",
    "    loaded. If it's a list of strings, only instances with\n",
    "    matching labels will be preserved. Returns a list of training\n",
    "    label/sentence tuples and a list of testing label/sentence\n",
    "    tuples.\n",
    "    \"\"\"\n",
    "    with open('data/WiLI-2018/x_train.txt', 'r') as f:\n",
    "        train_sents = [l.strip() for l in f.readlines()]\n",
    "    with open('data/WiLI-2018/y_train.txt', 'r') as f:\n",
    "        train_labels = [l.strip() for l in f.readlines()]\n",
    "    with open('data/WiLI-2018/x_test.txt', 'r') as f:\n",
    "        test_sents = [l.strip() for l in f.readlines()]\n",
    "    with open('data/WiLI-2018/y_test.txt', 'r') as f:\n",
    "        test_labels = [l.strip() for l in f.readlines()]\n",
    "        \n",
    "    train = zip(train_labels, train_sents)\n",
    "    test = zip(test_labels, test_sents)\n",
    "    if isinstance(include, list) and all(type(i) == str for i in include):\n",
    "        return ( [(l, s) for l, s in train if l in include],\n",
    "                 [(l, s) for l, s in test if l in include] )\n",
    "    elif include is None:\n",
    "        return list(train), list(test)\n",
    "    else:\n",
    "        raise ValueError(\"'include' parameter must be None or list of strs.\")\n",
    "\n",
    "\n",
    "def save_fasttext(train, test,\n",
    "                  trainfile='data/WiLI-2018/wili.train.txt',\n",
    "                  testfile='data/WiLI-2018/wili.test.txt'):\n",
    "    \"\"\"\n",
    "    Transforms a list of training label/sentence tuples and a\n",
    "    list of testing label/sentence tuples to the format\n",
    "    required by fastText and saves them to disk.\n",
    "    \"\"\"\n",
    "    with open(trainfile, 'w') as f:\n",
    "        f.write('\\n'.join(' '.join(('__label__' + l, s),) for l, s in train))\n",
    "    with open(testfile, 'w') as f:\n",
    "        f.write('\\n'.join(' '.join(('__label__' + l, s),) for l, s in test))\n",
    "\n",
    "        \n",
    "download_wili()\n",
    "# for languages see labels.csv in WiLI data.\n",
    "train, test = load_wili(\n",
    "    ['eng', 'spa', 'fra', 'ita', 'por', 'deu', 'nld',\n",
    "     'dan', 'nno', 'fin',\n",
    "     'ces', 'bul', 'pol', 'ron', 'slk', 'hun', 'rus'\n",
    "    ]\n",
    ")\n",
    "save_fasttext(train, test)"
   ]
  },
  {
   "cell_type": "code",
   "execution_count": 2,
   "metadata": {},
   "outputs": [
    {
     "data": {
      "text/plain": [
       "(8500, 0.9841176470588235, 0.9841176470588235)"
      ]
     },
     "execution_count": 2,
     "metadata": {},
     "output_type": "execute_result"
    }
   ],
   "source": [
    "import fasttext\n",
    "\n",
    "model = fasttext.train_supervised(\n",
    "    'data/WiLI-2018/wili.train.txt',\n",
    "    lr=0.5,\n",
    "    epoch=30,\n",
    "    minCount=3,\n",
    "    dim=50,\n",
    "    maxn=3,\n",
    "    #wordNgrams=3,\n",
    ")\n",
    "model.test('data/WiLI-2018/wili.test.txt')"
   ]
  }
 ],
 "metadata": {
  "kernelspec": {
   "display_name": "Python 3",
   "language": "python",
   "name": "python3"
  },
  "language_info": {
   "codemirror_mode": {
    "name": "ipython",
    "version": 3
   },
   "file_extension": ".py",
   "mimetype": "text/x-python",
   "name": "python",
   "nbconvert_exporter": "python",
   "pygments_lexer": "ipython3",
   "version": "3.7.3"
  }
 },
 "nbformat": 4,
 "nbformat_minor": 2
}
