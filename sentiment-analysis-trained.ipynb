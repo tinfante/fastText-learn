{
 "cells": [
  {
   "cell_type": "code",
   "execution_count": 1,
   "metadata": {},
   "outputs": [],
   "source": [
    "import gzip\n",
    "import os\n",
    "import shutil\n",
    "import urllib\n",
    "\n",
    "def download_reviews():\n",
    "    \"\"\"\n",
    "    Downloads Amazon movie and tv reviews if not downloaded.\n",
    "    See: http://jmcauley.ucsd.edu/data/amazon/\n",
    "    \"\"\"\n",
    "    if not os.path.isfile('data/Amazon-Movie-TV-Reviews'):\n",
    "        urllib.request.urlretrieve(\n",
    "            \"http://snap.stanford.edu/data/amazon/productGraph/categoryFiles/reviews_Movies_and_TV_5.json.gz\",\n",
    "            \"data/reviews_Movies_and_TV_5.json.gz\"\n",
    "        )\n",
    "        os.mkdir('data/Amazon-Movie-TV-Reviews')\n",
    "        with gzip.open('data/reviews_Movies_and_TV_5.json.gz', 'r') as file_in, \\\n",
    "                open('data/Amazon-Movie-TV-Reviews/movie-tv-reviews.json', 'wb') as file_out:\n",
    "            shutil.copyfileobj(file_in, file_out)\n",
    "        os.remove('data/reviews_Movies_and_TV_5.json.gz')\n",
    "\n",
    "\n",
    "download_reviews()"
   ]
  },
  {
   "cell_type": "code",
   "execution_count": null,
   "metadata": {},
   "outputs": [],
   "source": []
  }
 ],
 "metadata": {
  "kernelspec": {
   "display_name": "Python 3",
   "language": "python",
   "name": "python3"
  },
  "language_info": {
   "codemirror_mode": {
    "name": "ipython",
    "version": 3
   },
   "file_extension": ".py",
   "mimetype": "text/x-python",
   "name": "python",
   "nbconvert_exporter": "python",
   "pygments_lexer": "ipython3",
   "version": "3.7.3"
  }
 },
 "nbformat": 4,
 "nbformat_minor": 2
}
