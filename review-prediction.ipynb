{
 "cells": [
  {
   "cell_type": "code",
   "execution_count": 1,
   "metadata": {},
   "outputs": [],
   "source": [
    "from json import loads\n",
    "import gzip\n",
    "import os\n",
    "from random import shuffle\n",
    "import shutil\n",
    "import urllib\n",
    "\n",
    "\n",
    "def download_reviews():\n",
    "    \"\"\"\n",
    "    Downloads Amazon movie and tv reviews if not downloaded.\n",
    "    See: http://jmcauley.ucsd.edu/data/amazon/\n",
    "    \"\"\"\n",
    "    if not os.path.isdir('data/Amazon-Movie-TV-Reviews'):\n",
    "        urllib.request.urlretrieve(\n",
    "            \"http://snap.stanford.edu/data/amazon/productGraph/categoryFiles/reviews_Movies_and_TV_5.json.gz\",\n",
    "            \"data/reviews_Movies_and_TV_5.json.gz\"\n",
    "        )\n",
    "        os.mkdir('data/Amazon-Movie-TV-Reviews')\n",
    "        with gzip.open('data/reviews_Movies_and_TV_5.json.gz', 'r') as file_in, \\\n",
    "                open('data/Amazon-Movie-TV-Reviews/movie-tv-reviews.json', 'wb') as file_out:\n",
    "            shutil.copyfileobj(file_in, file_out)\n",
    "        os.remove('data/reviews_Movies_and_TV_5.json.gz')\n",
    "\n",
    "\n",
    "download_reviews()"
   ]
  },
  {
   "cell_type": "code",
   "execution_count": 2,
   "metadata": {},
   "outputs": [],
   "source": [
    "def save2fastText(train_test_split=0.5):\n",
    "    with open('data/Amazon-Movie-TV-Reviews/movie-tv-reviews.json', 'r') as f:\n",
    "        data = f.readlines()\n",
    "    shuffle(data)\n",
    "    \n",
    "    train = data[:int(len(data)*train_test_split)]\n",
    "    with open('data/Amazon-Movie-TV-Reviews/data.train.txt', 'w') as f:\n",
    "        for x in train:\n",
    "            j = loads(x)\n",
    "            f.write('__label__{} {}\\n'.format(int(j['overall']), j['reviewText']))\n",
    "    test = data[int(len(data)*train_test_split):]\n",
    "    with open('data/Amazon-Movie-TV-Reviews/data.test.txt', 'w') as f:\n",
    "        for x in test:\n",
    "            j = loads(x)\n",
    "            f.write('__label__{} {}\\n'.format(int(j['overall']), j['reviewText']))\n",
    "\n",
    "\n",
    "save2fastText()"
   ]
  },
  {
   "cell_type": "code",
   "execution_count": 3,
   "metadata": {},
   "outputs": [
    {
     "data": {
      "text/plain": [
       "(848766, 0.9932478445178059, 0.9932478445178059)"
      ]
     },
     "execution_count": 3,
     "metadata": {},
     "output_type": "execute_result"
    }
   ],
   "source": [
    "import fasttext\n",
    "\n",
    "model = fasttext.train_supervised(\n",
    "    'data/Amazon-Movie-TV-Reviews/data.train.txt',\n",
    "    lr=0.5,\n",
    "    epoch=20,\n",
    "    minCount=3,\n",
    "    #dim=50,\n",
    "    #maxn=3,\n",
    "    wordNgrams=2,\n",
    ")\n",
    "model.test('data/Amazon-Movie-TV-Reviews/data.train.txt')"
   ]
  }
 ],
 "metadata": {
  "kernelspec": {
   "display_name": "Python 3",
   "language": "python",
   "name": "python3"
  },
  "language_info": {
   "codemirror_mode": {
    "name": "ipython",
    "version": 3
   },
   "file_extension": ".py",
   "mimetype": "text/x-python",
   "name": "python",
   "nbconvert_exporter": "python",
   "pygments_lexer": "ipython3",
   "version": "3.7.3"
  }
 },
 "nbformat": 4,
 "nbformat_minor": 2
}
